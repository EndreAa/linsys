{
 "cells": [
  {
   "cell_type": "code",
   "execution_count": null,
   "id": "09d4c68f",
   "metadata": {},
   "outputs": [],
   "source": [
    "import scipy\n",
    "import matplotlib.pyplot as plt\n",
    "import polars as pl\n",
    "\n",
    "\n",
    "def load_from_mat(file_path: str):\n",
    "    mat = scipy.io.loadmat(file_path)\n",
    "    print(mat.keys())\n",
    "\n",
    "    ts = mat[\"my_timeseries\"]\n",
    "\n",
    "    time = ts[\"Time\"][0, 0].flatten()\n",
    "    values = ts[\"Data\"][0, 0]\n",
    "\n",
    "    df = pl.DataFrame(\n",
    "        {\n",
    "            \"time\": time,\n",
    "            \"sensor_1\": values[:, 0],\n",
    "            \"sensor_2\": values[:, 1],\n",
    "            \"sensor_3\": values[:, 2],\n",
    "            \"sensor_4\": values[:, 4],\n",
    "            \"sensor_5\": values[:, 5],\n",
    "            \"sensor_6\": values[:, 6],\n",
    "        }\n",
    "    )\n",
    "\n",
    "    print(df)\n",
    "    return df\n",
    "\n",
    "\n",
    "def plot_data(df):\n",
    "    plt.figure()\n",
    "    plt.plot(df[\"time\"], df[\"sensor_1\"], label=\"Sensor 1\")\n",
    "    plt.plot(df[\"time\"], df[\"sensor_2\"], label=\"Sensor 2\")\n",
    "    plt.xlabel(\"Time\")\n",
    "    plt.ylabel(\"Sensor Values\")\n",
    "    plt.title(\"Sensor Data Over Time\")\n",
    "    plt.legend()\n",
    "    plt.show()\n"
   ]
  },
  {
   "cell_type": "code",
   "execution_count": null,
   "id": "43f98f4f",
   "metadata": {},
   "outputs": [],
   "source": [
    "data = load_from_mat(\"data/1/data_critical.mat\")\n",
    "plot_data(data)"
   ]
  },
  {
   "cell_type": "code",
   "execution_count": null,
   "id": "41171917",
   "metadata": {},
   "outputs": [],
   "source": [
    "data = load_from_mat(\"data/1/data.mat\")\n",
    "plot_data(data)"
   ]
  }
 ],
 "metadata": {
  "kernelspec": {
   "display_name": "helikopter-data",
   "language": "python",
   "name": "python3"
  },
  "language_info": {
   "name": "python",
   "version": "3.12.9"
  }
 },
 "nbformat": 4,
 "nbformat_minor": 5
}
